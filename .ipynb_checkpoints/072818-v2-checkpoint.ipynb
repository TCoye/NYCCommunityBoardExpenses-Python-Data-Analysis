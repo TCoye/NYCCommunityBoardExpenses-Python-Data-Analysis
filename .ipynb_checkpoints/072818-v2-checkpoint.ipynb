{
 "cells": [
  {
   "cell_type": "code",
   "execution_count": 1,
   "metadata": {},
   "outputs": [],
   "source": [
    "import pandas as pd"
   ]
  },
  {
   "cell_type": "markdown",
   "metadata": {},
   "source": [
    "df = pd.read_csv('Expense_Budget.csv')\n",
    "df"
   ]
  },
  {
   "cell_type": "code",
   "execution_count": 2,
   "metadata": {},
   "outputs": [
    {
     "data": {
      "text/html": [
       "<div>\n",
       "<style>\n",
       "    .dataframe thead tr:only-child th {\n",
       "        text-align: right;\n",
       "    }\n",
       "\n",
       "    .dataframe thead th {\n",
       "        text-align: left;\n",
       "    }\n",
       "\n",
       "    .dataframe tbody tr th {\n",
       "        vertical-align: top;\n",
       "    }\n",
       "</style>\n",
       "<table border=\"1\" class=\"dataframe\">\n",
       "  <thead>\n",
       "    <tr style=\"text-align: right;\">\n",
       "      <th></th>\n",
       "      <th>Fiscal Year</th>\n",
       "      <th>Agency Name</th>\n",
       "      <th>Adopted Budget Amount</th>\n",
       "    </tr>\n",
       "  </thead>\n",
       "  <tbody>\n",
       "    <tr>\n",
       "      <th>0</th>\n",
       "      <td>2017</td>\n",
       "      <td>ADMIN FOR CHILDREN'S SERVICES</td>\n",
       "      <td>5.897844e+09</td>\n",
       "    </tr>\n",
       "    <tr>\n",
       "      <th>1</th>\n",
       "      <td>2017</td>\n",
       "      <td>BOARD OF CORRECTION</td>\n",
       "      <td>5.074716e+06</td>\n",
       "    </tr>\n",
       "    <tr>\n",
       "      <th>2</th>\n",
       "      <td>2017</td>\n",
       "      <td>BOARD OF ELECTIONS</td>\n",
       "      <td>2.805045e+08</td>\n",
       "    </tr>\n",
       "    <tr>\n",
       "      <th>3</th>\n",
       "      <td>2017</td>\n",
       "      <td>BOROUGH PRESIDENT - BROOKLYN</td>\n",
       "      <td>1.172747e+07</td>\n",
       "    </tr>\n",
       "    <tr>\n",
       "      <th>4</th>\n",
       "      <td>2017</td>\n",
       "      <td>BOROUGH PRESIDENT - MANHATTAN</td>\n",
       "      <td>9.427342e+06</td>\n",
       "    </tr>\n",
       "    <tr>\n",
       "      <th>5</th>\n",
       "      <td>2017</td>\n",
       "      <td>BOROUGH PRESIDENT - QUEENS</td>\n",
       "      <td>1.030966e+07</td>\n",
       "    </tr>\n",
       "    <tr>\n",
       "      <th>6</th>\n",
       "      <td>2017</td>\n",
       "      <td>BOROUGH PRESIDENT BRONX</td>\n",
       "      <td>1.129066e+07</td>\n",
       "    </tr>\n",
       "    <tr>\n",
       "      <th>7</th>\n",
       "      <td>2017</td>\n",
       "      <td>BOROUGH PRESIDENT STATEN ISLAND</td>\n",
       "      <td>8.665412e+06</td>\n",
       "    </tr>\n",
       "    <tr>\n",
       "      <th>8</th>\n",
       "      <td>2017</td>\n",
       "      <td>BRONX COMMUNITY BOARD #1</td>\n",
       "      <td>5.743820e+05</td>\n",
       "    </tr>\n",
       "    <tr>\n",
       "      <th>9</th>\n",
       "      <td>2017</td>\n",
       "      <td>BRONX COMMUNITY BOARD #10</td>\n",
       "      <td>6.085020e+05</td>\n",
       "    </tr>\n",
       "    <tr>\n",
       "      <th>10</th>\n",
       "      <td>2017</td>\n",
       "      <td>BRONX COMMUNITY BOARD #11</td>\n",
       "      <td>5.692620e+05</td>\n",
       "    </tr>\n",
       "    <tr>\n",
       "      <th>11</th>\n",
       "      <td>2017</td>\n",
       "      <td>BRONX COMMUNITY BOARD #12</td>\n",
       "      <td>4.711220e+05</td>\n",
       "    </tr>\n",
       "    <tr>\n",
       "      <th>12</th>\n",
       "      <td>2017</td>\n",
       "      <td>BRONX COMMUNITY BOARD #2</td>\n",
       "      <td>5.505960e+05</td>\n",
       "    </tr>\n",
       "    <tr>\n",
       "      <th>13</th>\n",
       "      <td>2017</td>\n",
       "      <td>BRONX COMMUNITY BOARD #3</td>\n",
       "      <td>5.776520e+05</td>\n",
       "    </tr>\n",
       "    <tr>\n",
       "      <th>14</th>\n",
       "      <td>2017</td>\n",
       "      <td>BRONX COMMUNITY BOARD #4</td>\n",
       "      <td>4.867940e+05</td>\n",
       "    </tr>\n",
       "    <tr>\n",
       "      <th>15</th>\n",
       "      <td>2017</td>\n",
       "      <td>BRONX COMMUNITY BOARD #5</td>\n",
       "      <td>4.676200e+05</td>\n",
       "    </tr>\n",
       "    <tr>\n",
       "      <th>16</th>\n",
       "      <td>2017</td>\n",
       "      <td>BRONX COMMUNITY BOARD #6</td>\n",
       "      <td>4.670740e+05</td>\n",
       "    </tr>\n",
       "    <tr>\n",
       "      <th>17</th>\n",
       "      <td>2017</td>\n",
       "      <td>BRONX COMMUNITY BOARD #7</td>\n",
       "      <td>5.747500e+05</td>\n",
       "    </tr>\n",
       "    <tr>\n",
       "      <th>18</th>\n",
       "      <td>2017</td>\n",
       "      <td>BRONX COMMUNITY BOARD #8</td>\n",
       "      <td>5.662180e+05</td>\n",
       "    </tr>\n",
       "    <tr>\n",
       "      <th>19</th>\n",
       "      <td>2017</td>\n",
       "      <td>BRONX COMMUNITY BOARD #9</td>\n",
       "      <td>5.711760e+05</td>\n",
       "    </tr>\n",
       "    <tr>\n",
       "      <th>20</th>\n",
       "      <td>2017</td>\n",
       "      <td>BROOKLYN COMMUNITY BOARD #1</td>\n",
       "      <td>6.060300e+05</td>\n",
       "    </tr>\n",
       "    <tr>\n",
       "      <th>21</th>\n",
       "      <td>2017</td>\n",
       "      <td>BROOKLYN COMMUNITY BOARD #10</td>\n",
       "      <td>6.479040e+05</td>\n",
       "    </tr>\n",
       "    <tr>\n",
       "      <th>22</th>\n",
       "      <td>2017</td>\n",
       "      <td>BROOKLYN COMMUNITY BOARD #11</td>\n",
       "      <td>5.593440e+05</td>\n",
       "    </tr>\n",
       "    <tr>\n",
       "      <th>23</th>\n",
       "      <td>2017</td>\n",
       "      <td>BROOKLYN COMMUNITY BOARD #12</td>\n",
       "      <td>6.306140e+05</td>\n",
       "    </tr>\n",
       "    <tr>\n",
       "      <th>24</th>\n",
       "      <td>2017</td>\n",
       "      <td>BROOKLYN COMMUNITY BOARD #13</td>\n",
       "      <td>5.812900e+05</td>\n",
       "    </tr>\n",
       "    <tr>\n",
       "      <th>25</th>\n",
       "      <td>2017</td>\n",
       "      <td>BROOKLYN COMMUNITY BOARD #14</td>\n",
       "      <td>6.084920e+05</td>\n",
       "    </tr>\n",
       "    <tr>\n",
       "      <th>26</th>\n",
       "      <td>2017</td>\n",
       "      <td>BROOKLYN COMMUNITY BOARD #15</td>\n",
       "      <td>4.597900e+05</td>\n",
       "    </tr>\n",
       "    <tr>\n",
       "      <th>27</th>\n",
       "      <td>2017</td>\n",
       "      <td>BROOKLYN COMMUNITY BOARD #16</td>\n",
       "      <td>5.863680e+05</td>\n",
       "    </tr>\n",
       "    <tr>\n",
       "      <th>28</th>\n",
       "      <td>2017</td>\n",
       "      <td>BROOKLYN COMMUNITY BOARD #17</td>\n",
       "      <td>6.274740e+05</td>\n",
       "    </tr>\n",
       "    <tr>\n",
       "      <th>29</th>\n",
       "      <td>2017</td>\n",
       "      <td>BROOKLYN COMMUNITY BOARD #18</td>\n",
       "      <td>4.597940e+05</td>\n",
       "    </tr>\n",
       "    <tr>\n",
       "      <th>...</th>\n",
       "      <td>...</td>\n",
       "      <td>...</td>\n",
       "      <td>...</td>\n",
       "    </tr>\n",
       "    <tr>\n",
       "      <th>387</th>\n",
       "      <td>2019</td>\n",
       "      <td>OFFICE OF PAYROLL ADMINISTRATION</td>\n",
       "      <td>4.895048e+07</td>\n",
       "    </tr>\n",
       "    <tr>\n",
       "      <th>388</th>\n",
       "      <td>2019</td>\n",
       "      <td>OFFICE OF PROSECUTION SPEC NARCO</td>\n",
       "      <td>6.717610e+07</td>\n",
       "    </tr>\n",
       "    <tr>\n",
       "      <th>389</th>\n",
       "      <td>2019</td>\n",
       "      <td>OFFICE OF THE ACTUARY</td>\n",
       "      <td>2.175210e+07</td>\n",
       "    </tr>\n",
       "    <tr>\n",
       "      <th>390</th>\n",
       "      <td>2019</td>\n",
       "      <td>OFFICE OF THE COMPTROLLER</td>\n",
       "      <td>3.170075e+08</td>\n",
       "    </tr>\n",
       "    <tr>\n",
       "      <th>391</th>\n",
       "      <td>2019</td>\n",
       "      <td>PENSION CONTRIBUTIONS</td>\n",
       "      <td>2.871492e+10</td>\n",
       "    </tr>\n",
       "    <tr>\n",
       "      <th>392</th>\n",
       "      <td>2019</td>\n",
       "      <td>POLICE DEPARTMENT</td>\n",
       "      <td>1.671489e+10</td>\n",
       "    </tr>\n",
       "    <tr>\n",
       "      <th>393</th>\n",
       "      <td>2019</td>\n",
       "      <td>PUBLIC ADMINISTRATOR- QUEENS COUNTY</td>\n",
       "      <td>1.861983e+06</td>\n",
       "    </tr>\n",
       "    <tr>\n",
       "      <th>394</th>\n",
       "      <td>2019</td>\n",
       "      <td>PUBLIC ADMINISTRATOR-BRONX COUNTY</td>\n",
       "      <td>2.171949e+06</td>\n",
       "    </tr>\n",
       "    <tr>\n",
       "      <th>395</th>\n",
       "      <td>2019</td>\n",
       "      <td>PUBLIC ADMINISTRATOR-KINGS COUNTY</td>\n",
       "      <td>2.554926e+06</td>\n",
       "    </tr>\n",
       "    <tr>\n",
       "      <th>396</th>\n",
       "      <td>2019</td>\n",
       "      <td>PUBLIC ADMINISTRATOR-NEW YORK COUNTY</td>\n",
       "      <td>8.588880e+06</td>\n",
       "    </tr>\n",
       "    <tr>\n",
       "      <th>397</th>\n",
       "      <td>2019</td>\n",
       "      <td>PUBLIC ADMINISTRATOR-RICHMOND COUNTY</td>\n",
       "      <td>1.573818e+06</td>\n",
       "    </tr>\n",
       "    <tr>\n",
       "      <th>398</th>\n",
       "      <td>2019</td>\n",
       "      <td>PUBLIC ADVOCATE</td>\n",
       "      <td>1.086000e+07</td>\n",
       "    </tr>\n",
       "    <tr>\n",
       "      <th>399</th>\n",
       "      <td>2019</td>\n",
       "      <td>QUEENS BOROUGH PUBLIC LIBRARY</td>\n",
       "      <td>3.136433e+08</td>\n",
       "    </tr>\n",
       "    <tr>\n",
       "      <th>400</th>\n",
       "      <td>2019</td>\n",
       "      <td>QUEENS COMMUNITY BOARD #1</td>\n",
       "      <td>8.153940e+05</td>\n",
       "    </tr>\n",
       "    <tr>\n",
       "      <th>401</th>\n",
       "      <td>2019</td>\n",
       "      <td>QUEENS COMMUNITY BOARD #10</td>\n",
       "      <td>8.467350e+05</td>\n",
       "    </tr>\n",
       "    <tr>\n",
       "      <th>402</th>\n",
       "      <td>2019</td>\n",
       "      <td>QUEENS COMMUNITY BOARD #11</td>\n",
       "      <td>9.480000e+05</td>\n",
       "    </tr>\n",
       "    <tr>\n",
       "      <th>403</th>\n",
       "      <td>2019</td>\n",
       "      <td>QUEENS COMMUNITY BOARD #12</td>\n",
       "      <td>8.772960e+05</td>\n",
       "    </tr>\n",
       "    <tr>\n",
       "      <th>404</th>\n",
       "      <td>2019</td>\n",
       "      <td>QUEENS COMMUNITY BOARD #13</td>\n",
       "      <td>8.298930e+05</td>\n",
       "    </tr>\n",
       "    <tr>\n",
       "      <th>405</th>\n",
       "      <td>2019</td>\n",
       "      <td>QUEENS COMMUNITY BOARD #14</td>\n",
       "      <td>7.891140e+05</td>\n",
       "    </tr>\n",
       "    <tr>\n",
       "      <th>406</th>\n",
       "      <td>2019</td>\n",
       "      <td>QUEENS COMMUNITY BOARD #2</td>\n",
       "      <td>9.468360e+05</td>\n",
       "    </tr>\n",
       "    <tr>\n",
       "      <th>407</th>\n",
       "      <td>2019</td>\n",
       "      <td>QUEENS COMMUNITY BOARD #3</td>\n",
       "      <td>9.936390e+05</td>\n",
       "    </tr>\n",
       "    <tr>\n",
       "      <th>408</th>\n",
       "      <td>2019</td>\n",
       "      <td>QUEENS COMMUNITY BOARD #4</td>\n",
       "      <td>8.421960e+05</td>\n",
       "    </tr>\n",
       "    <tr>\n",
       "      <th>409</th>\n",
       "      <td>2019</td>\n",
       "      <td>QUEENS COMMUNITY BOARD #5</td>\n",
       "      <td>8.223900e+05</td>\n",
       "    </tr>\n",
       "    <tr>\n",
       "      <th>410</th>\n",
       "      <td>2019</td>\n",
       "      <td>QUEENS COMMUNITY BOARD #6</td>\n",
       "      <td>8.740830e+05</td>\n",
       "    </tr>\n",
       "    <tr>\n",
       "      <th>411</th>\n",
       "      <td>2019</td>\n",
       "      <td>QUEENS COMMUNITY BOARD #7</td>\n",
       "      <td>9.666630e+05</td>\n",
       "    </tr>\n",
       "    <tr>\n",
       "      <th>412</th>\n",
       "      <td>2019</td>\n",
       "      <td>QUEENS COMMUNITY BOARD #8</td>\n",
       "      <td>9.655950e+05</td>\n",
       "    </tr>\n",
       "    <tr>\n",
       "      <th>413</th>\n",
       "      <td>2019</td>\n",
       "      <td>QUEENS COMMUNITY BOARD #9</td>\n",
       "      <td>7.103340e+05</td>\n",
       "    </tr>\n",
       "    <tr>\n",
       "      <th>414</th>\n",
       "      <td>2019</td>\n",
       "      <td>STATEN ISLAND COMMUNITY BOARD #1</td>\n",
       "      <td>8.831550e+05</td>\n",
       "    </tr>\n",
       "    <tr>\n",
       "      <th>415</th>\n",
       "      <td>2019</td>\n",
       "      <td>STATEN ISLAND COMMUNITY BOARD #2</td>\n",
       "      <td>8.431020e+05</td>\n",
       "    </tr>\n",
       "    <tr>\n",
       "      <th>416</th>\n",
       "      <td>2019</td>\n",
       "      <td>STATEN ISLAND COMMUNITY BOARD #3</td>\n",
       "      <td>1.026390e+06</td>\n",
       "    </tr>\n",
       "  </tbody>\n",
       "</table>\n",
       "<p>417 rows × 3 columns</p>\n",
       "</div>"
      ],
      "text/plain": [
       "     Fiscal Year                           Agency Name  Adopted Budget Amount\n",
       "0           2017         ADMIN FOR CHILDREN'S SERVICES           5.897844e+09\n",
       "1           2017                   BOARD OF CORRECTION           5.074716e+06\n",
       "2           2017                    BOARD OF ELECTIONS           2.805045e+08\n",
       "3           2017          BOROUGH PRESIDENT - BROOKLYN           1.172747e+07\n",
       "4           2017         BOROUGH PRESIDENT - MANHATTAN           9.427342e+06\n",
       "5           2017            BOROUGH PRESIDENT - QUEENS           1.030966e+07\n",
       "6           2017               BOROUGH PRESIDENT BRONX           1.129066e+07\n",
       "7           2017       BOROUGH PRESIDENT STATEN ISLAND           8.665412e+06\n",
       "8           2017              BRONX COMMUNITY BOARD #1           5.743820e+05\n",
       "9           2017             BRONX COMMUNITY BOARD #10           6.085020e+05\n",
       "10          2017             BRONX COMMUNITY BOARD #11           5.692620e+05\n",
       "11          2017             BRONX COMMUNITY BOARD #12           4.711220e+05\n",
       "12          2017              BRONX COMMUNITY BOARD #2           5.505960e+05\n",
       "13          2017              BRONX COMMUNITY BOARD #3           5.776520e+05\n",
       "14          2017              BRONX COMMUNITY BOARD #4           4.867940e+05\n",
       "15          2017              BRONX COMMUNITY BOARD #5           4.676200e+05\n",
       "16          2017              BRONX COMMUNITY BOARD #6           4.670740e+05\n",
       "17          2017              BRONX COMMUNITY BOARD #7           5.747500e+05\n",
       "18          2017              BRONX COMMUNITY BOARD #8           5.662180e+05\n",
       "19          2017              BRONX COMMUNITY BOARD #9           5.711760e+05\n",
       "20          2017           BROOKLYN COMMUNITY BOARD #1           6.060300e+05\n",
       "21          2017          BROOKLYN COMMUNITY BOARD #10           6.479040e+05\n",
       "22          2017          BROOKLYN COMMUNITY BOARD #11           5.593440e+05\n",
       "23          2017          BROOKLYN COMMUNITY BOARD #12           6.306140e+05\n",
       "24          2017          BROOKLYN COMMUNITY BOARD #13           5.812900e+05\n",
       "25          2017          BROOKLYN COMMUNITY BOARD #14           6.084920e+05\n",
       "26          2017          BROOKLYN COMMUNITY BOARD #15           4.597900e+05\n",
       "27          2017          BROOKLYN COMMUNITY BOARD #16           5.863680e+05\n",
       "28          2017          BROOKLYN COMMUNITY BOARD #17           6.274740e+05\n",
       "29          2017          BROOKLYN COMMUNITY BOARD #18           4.597940e+05\n",
       "..           ...                                   ...                    ...\n",
       "387         2019      OFFICE OF PAYROLL ADMINISTRATION           4.895048e+07\n",
       "388         2019      OFFICE OF PROSECUTION SPEC NARCO           6.717610e+07\n",
       "389         2019                 OFFICE OF THE ACTUARY           2.175210e+07\n",
       "390         2019             OFFICE OF THE COMPTROLLER           3.170075e+08\n",
       "391         2019                 PENSION CONTRIBUTIONS           2.871492e+10\n",
       "392         2019                     POLICE DEPARTMENT           1.671489e+10\n",
       "393         2019   PUBLIC ADMINISTRATOR- QUEENS COUNTY           1.861983e+06\n",
       "394         2019     PUBLIC ADMINISTRATOR-BRONX COUNTY           2.171949e+06\n",
       "395         2019     PUBLIC ADMINISTRATOR-KINGS COUNTY           2.554926e+06\n",
       "396         2019  PUBLIC ADMINISTRATOR-NEW YORK COUNTY           8.588880e+06\n",
       "397         2019  PUBLIC ADMINISTRATOR-RICHMOND COUNTY           1.573818e+06\n",
       "398         2019                       PUBLIC ADVOCATE           1.086000e+07\n",
       "399         2019         QUEENS BOROUGH PUBLIC LIBRARY           3.136433e+08\n",
       "400         2019             QUEENS COMMUNITY BOARD #1           8.153940e+05\n",
       "401         2019            QUEENS COMMUNITY BOARD #10           8.467350e+05\n",
       "402         2019            QUEENS COMMUNITY BOARD #11           9.480000e+05\n",
       "403         2019            QUEENS COMMUNITY BOARD #12           8.772960e+05\n",
       "404         2019            QUEENS COMMUNITY BOARD #13           8.298930e+05\n",
       "405         2019            QUEENS COMMUNITY BOARD #14           7.891140e+05\n",
       "406         2019             QUEENS COMMUNITY BOARD #2           9.468360e+05\n",
       "407         2019             QUEENS COMMUNITY BOARD #3           9.936390e+05\n",
       "408         2019             QUEENS COMMUNITY BOARD #4           8.421960e+05\n",
       "409         2019             QUEENS COMMUNITY BOARD #5           8.223900e+05\n",
       "410         2019             QUEENS COMMUNITY BOARD #6           8.740830e+05\n",
       "411         2019             QUEENS COMMUNITY BOARD #7           9.666630e+05\n",
       "412         2019             QUEENS COMMUNITY BOARD #8           9.655950e+05\n",
       "413         2019             QUEENS COMMUNITY BOARD #9           7.103340e+05\n",
       "414         2019      STATEN ISLAND COMMUNITY BOARD #1           8.831550e+05\n",
       "415         2019      STATEN ISLAND COMMUNITY BOARD #2           8.431020e+05\n",
       "416         2019      STATEN ISLAND COMMUNITY BOARD #3           1.026390e+06\n",
       "\n",
       "[417 rows x 3 columns]"
      ]
     },
     "execution_count": 2,
     "metadata": {},
     "output_type": "execute_result"
    }
   ],
   "source": [
    "#df.to_pickle('Expense_Budget.p')\n",
    "\n",
    "df = pd.read_pickle('Expense_Budget.p')\n",
    "\n",
    "grouped_df = df[['Adopted Budget Amount', 'Agency Name','Fiscal Year']].groupby(['Fiscal Year', 'Agency Name']).sum()\n",
    "grouped_df = grouped_df.reset_index()\n",
    "grdf"
   ]
  },
  {
   "cell_type": "code",
   "execution_count": 11,
   "metadata": {},
   "outputs": [
    {
     "data": {
      "text/plain": [
       "Genus\n",
       "A    float64\n",
       "B    float64\n",
       "C    float64\n",
       "D    float64\n",
       "dtype: object"
      ]
     },
     "execution_count": 11,
     "metadata": {},
     "output_type": "execute_result"
    }
   ],
   "source": [
    "df.dtypes"
   ]
  },
  {
   "cell_type": "code",
   "execution_count": 4,
   "metadata": {},
   "outputs": [
    {
     "ename": "AttributeError",
     "evalue": "Can only use .str accessor with string values, which use np.object_ dtype in pandas",
     "output_type": "error",
     "traceback": [
      "\u001b[0;31m---------------------------------------------------------------------------\u001b[0m",
      "\u001b[0;31mAttributeError\u001b[0m                            Traceback (most recent call last)",
      "\u001b[0;32m<ipython-input-4-ff0f7545b7a4>\u001b[0m in \u001b[0;36m<module>\u001b[0;34m()\u001b[0m\n\u001b[0;32m----> 1\u001b[0;31m \u001b[0mdf\u001b[0m\u001b[0;34m[\u001b[0m\u001b[0;34m'Adopted Budget Amount'\u001b[0m\u001b[0;34m]\u001b[0m \u001b[0;34m=\u001b[0m \u001b[0mdf\u001b[0m\u001b[0;34m[\u001b[0m\u001b[0;34m'Adopted Budget Amount'\u001b[0m\u001b[0;34m]\u001b[0m\u001b[0;34m.\u001b[0m\u001b[0mstr\u001b[0m\u001b[0;34m.\u001b[0m\u001b[0mreplace\u001b[0m\u001b[0;34m(\u001b[0m\u001b[0;34m','\u001b[0m\u001b[0;34m,\u001b[0m \u001b[0;34m''\u001b[0m\u001b[0;34m)\u001b[0m\u001b[0;34m.\u001b[0m\u001b[0mastype\u001b[0m\u001b[0;34m(\u001b[0m\u001b[0mfloat\u001b[0m\u001b[0;34m)\u001b[0m\u001b[0;34m\u001b[0m\u001b[0m\n\u001b[0m",
      "\u001b[0;32m~/anaconda3_501/lib/python3.6/site-packages/pandas/core/generic.py\u001b[0m in \u001b[0;36m__getattr__\u001b[0;34m(self, name)\u001b[0m\n\u001b[1;32m   3075\u001b[0m         if (name in self._internal_names_set or name in self._metadata or\n\u001b[1;32m   3076\u001b[0m                 name in self._accessors):\n\u001b[0;32m-> 3077\u001b[0;31m             \u001b[0;32mreturn\u001b[0m \u001b[0mobject\u001b[0m\u001b[0;34m.\u001b[0m\u001b[0m__getattribute__\u001b[0m\u001b[0;34m(\u001b[0m\u001b[0mself\u001b[0m\u001b[0;34m,\u001b[0m \u001b[0mname\u001b[0m\u001b[0;34m)\u001b[0m\u001b[0;34m\u001b[0m\u001b[0m\n\u001b[0m\u001b[1;32m   3078\u001b[0m         \u001b[0;32melse\u001b[0m\u001b[0;34m:\u001b[0m\u001b[0;34m\u001b[0m\u001b[0m\n\u001b[1;32m   3079\u001b[0m             \u001b[0;32mif\u001b[0m \u001b[0mname\u001b[0m \u001b[0;32min\u001b[0m \u001b[0mself\u001b[0m\u001b[0;34m.\u001b[0m\u001b[0m_info_axis\u001b[0m\u001b[0;34m:\u001b[0m\u001b[0;34m\u001b[0m\u001b[0m\n",
      "\u001b[0;32m~/anaconda3_501/lib/python3.6/site-packages/pandas/core/base.py\u001b[0m in \u001b[0;36m__get__\u001b[0;34m(self, instance, owner)\u001b[0m\n\u001b[1;32m    241\u001b[0m             \u001b[0;31m# this ensures that Series.str.<method> is well defined\u001b[0m\u001b[0;34m\u001b[0m\u001b[0;34m\u001b[0m\u001b[0m\n\u001b[1;32m    242\u001b[0m             \u001b[0;32mreturn\u001b[0m \u001b[0mself\u001b[0m\u001b[0;34m.\u001b[0m\u001b[0maccessor_cls\u001b[0m\u001b[0;34m\u001b[0m\u001b[0m\n\u001b[0;32m--> 243\u001b[0;31m         \u001b[0;32mreturn\u001b[0m \u001b[0mself\u001b[0m\u001b[0;34m.\u001b[0m\u001b[0mconstruct_accessor\u001b[0m\u001b[0;34m(\u001b[0m\u001b[0minstance\u001b[0m\u001b[0;34m)\u001b[0m\u001b[0;34m\u001b[0m\u001b[0m\n\u001b[0m\u001b[1;32m    244\u001b[0m \u001b[0;34m\u001b[0m\u001b[0m\n\u001b[1;32m    245\u001b[0m     \u001b[0;32mdef\u001b[0m \u001b[0m__set__\u001b[0m\u001b[0;34m(\u001b[0m\u001b[0mself\u001b[0m\u001b[0;34m,\u001b[0m \u001b[0minstance\u001b[0m\u001b[0;34m,\u001b[0m \u001b[0mvalue\u001b[0m\u001b[0;34m)\u001b[0m\u001b[0;34m:\u001b[0m\u001b[0;34m\u001b[0m\u001b[0m\n",
      "\u001b[0;32m~/anaconda3_501/lib/python3.6/site-packages/pandas/core/strings.py\u001b[0m in \u001b[0;36m_make_str_accessor\u001b[0;34m(self)\u001b[0m\n\u001b[1;32m   1907\u001b[0m             \u001b[0;31m# (instead of test for object dtype), but that isn't practical for\u001b[0m\u001b[0;34m\u001b[0m\u001b[0;34m\u001b[0m\u001b[0m\n\u001b[1;32m   1908\u001b[0m             \u001b[0;31m# performance reasons until we have a str dtype (GH 9343)\u001b[0m\u001b[0;34m\u001b[0m\u001b[0;34m\u001b[0m\u001b[0m\n\u001b[0;32m-> 1909\u001b[0;31m             raise AttributeError(\"Can only use .str accessor with string \"\n\u001b[0m\u001b[1;32m   1910\u001b[0m                                  \u001b[0;34m\"values, which use np.object_ dtype in \"\u001b[0m\u001b[0;34m\u001b[0m\u001b[0m\n\u001b[1;32m   1911\u001b[0m                                  \"pandas\")\n",
      "\u001b[0;31mAttributeError\u001b[0m: Can only use .str accessor with string values, which use np.object_ dtype in pandas"
     ]
    }
   ],
   "source": [
    "df['Adopted Budget Amount'] = df['Adopted Budget Amount'].str.replace(',', '').astype(float)"
   ]
  },
  {
   "cell_type": "code",
   "execution_count": 10,
   "metadata": {},
   "outputs": [
    {
     "ename": "KeyError",
     "evalue": "\"['Adopted Budget Amount' 'Agency Name' 'Fiscal Year'] not in index\"",
     "output_type": "error",
     "traceback": [
      "\u001b[0;31m---------------------------------------------------------------------------\u001b[0m",
      "\u001b[0;31mKeyError\u001b[0m                                  Traceback (most recent call last)",
      "\u001b[0;32m<ipython-input-10-16c9146aeaa5>\u001b[0m in \u001b[0;36m<module>\u001b[0;34m()\u001b[0m\n\u001b[0;32m----> 1\u001b[0;31m \u001b[0mgrouped_df\u001b[0m \u001b[0;34m=\u001b[0m \u001b[0mdf\u001b[0m\u001b[0;34m[\u001b[0m\u001b[0;34m[\u001b[0m\u001b[0;34m'Adopted Budget Amount'\u001b[0m\u001b[0;34m,\u001b[0m \u001b[0;34m'Agency Name'\u001b[0m\u001b[0;34m,\u001b[0m\u001b[0;34m'Fiscal Year'\u001b[0m\u001b[0;34m]\u001b[0m\u001b[0;34m]\u001b[0m\u001b[0;34m.\u001b[0m\u001b[0mgroupby\u001b[0m\u001b[0;34m(\u001b[0m\u001b[0;34m[\u001b[0m\u001b[0;34m'Fiscal Year'\u001b[0m\u001b[0;34m,\u001b[0m \u001b[0;34m'Agency Name'\u001b[0m\u001b[0;34m]\u001b[0m\u001b[0;34m)\u001b[0m\u001b[0;34m.\u001b[0m\u001b[0msum\u001b[0m\u001b[0;34m(\u001b[0m\u001b[0;34m)\u001b[0m\u001b[0;34m\u001b[0m\u001b[0m\n\u001b[0m\u001b[1;32m      2\u001b[0m \u001b[0mgrouped_df\u001b[0m \u001b[0;34m=\u001b[0m \u001b[0mgrouped_df\u001b[0m\u001b[0;34m.\u001b[0m\u001b[0mreset_index\u001b[0m\u001b[0;34m(\u001b[0m\u001b[0;34m)\u001b[0m\u001b[0;34m\u001b[0m\u001b[0m\n\u001b[1;32m      3\u001b[0m \u001b[0mgrouped_df\u001b[0m\u001b[0;34m\u001b[0m\u001b[0m\n",
      "\u001b[0;32m~/anaconda3_501/lib/python3.6/site-packages/pandas/core/frame.py\u001b[0m in \u001b[0;36m__getitem__\u001b[0;34m(self, key)\u001b[0m\n\u001b[1;32m   1956\u001b[0m         \u001b[0;32mif\u001b[0m \u001b[0misinstance\u001b[0m\u001b[0;34m(\u001b[0m\u001b[0mkey\u001b[0m\u001b[0;34m,\u001b[0m \u001b[0;34m(\u001b[0m\u001b[0mSeries\u001b[0m\u001b[0;34m,\u001b[0m \u001b[0mnp\u001b[0m\u001b[0;34m.\u001b[0m\u001b[0mndarray\u001b[0m\u001b[0;34m,\u001b[0m \u001b[0mIndex\u001b[0m\u001b[0;34m,\u001b[0m \u001b[0mlist\u001b[0m\u001b[0;34m)\u001b[0m\u001b[0;34m)\u001b[0m\u001b[0;34m:\u001b[0m\u001b[0;34m\u001b[0m\u001b[0m\n\u001b[1;32m   1957\u001b[0m             \u001b[0;31m# either boolean or fancy integer index\u001b[0m\u001b[0;34m\u001b[0m\u001b[0;34m\u001b[0m\u001b[0m\n\u001b[0;32m-> 1958\u001b[0;31m             \u001b[0;32mreturn\u001b[0m \u001b[0mself\u001b[0m\u001b[0;34m.\u001b[0m\u001b[0m_getitem_array\u001b[0m\u001b[0;34m(\u001b[0m\u001b[0mkey\u001b[0m\u001b[0;34m)\u001b[0m\u001b[0;34m\u001b[0m\u001b[0m\n\u001b[0m\u001b[1;32m   1959\u001b[0m         \u001b[0;32melif\u001b[0m \u001b[0misinstance\u001b[0m\u001b[0;34m(\u001b[0m\u001b[0mkey\u001b[0m\u001b[0;34m,\u001b[0m \u001b[0mDataFrame\u001b[0m\u001b[0;34m)\u001b[0m\u001b[0;34m:\u001b[0m\u001b[0;34m\u001b[0m\u001b[0m\n\u001b[1;32m   1960\u001b[0m             \u001b[0;32mreturn\u001b[0m \u001b[0mself\u001b[0m\u001b[0;34m.\u001b[0m\u001b[0m_getitem_frame\u001b[0m\u001b[0;34m(\u001b[0m\u001b[0mkey\u001b[0m\u001b[0;34m)\u001b[0m\u001b[0;34m\u001b[0m\u001b[0m\n",
      "\u001b[0;32m~/anaconda3_501/lib/python3.6/site-packages/pandas/core/frame.py\u001b[0m in \u001b[0;36m_getitem_array\u001b[0;34m(self, key)\u001b[0m\n\u001b[1;32m   2000\u001b[0m             \u001b[0;32mreturn\u001b[0m \u001b[0mself\u001b[0m\u001b[0;34m.\u001b[0m\u001b[0mtake\u001b[0m\u001b[0;34m(\u001b[0m\u001b[0mindexer\u001b[0m\u001b[0;34m,\u001b[0m \u001b[0maxis\u001b[0m\u001b[0;34m=\u001b[0m\u001b[0;36m0\u001b[0m\u001b[0;34m,\u001b[0m \u001b[0mconvert\u001b[0m\u001b[0;34m=\u001b[0m\u001b[0;32mFalse\u001b[0m\u001b[0;34m)\u001b[0m\u001b[0;34m\u001b[0m\u001b[0m\n\u001b[1;32m   2001\u001b[0m         \u001b[0;32melse\u001b[0m\u001b[0;34m:\u001b[0m\u001b[0;34m\u001b[0m\u001b[0m\n\u001b[0;32m-> 2002\u001b[0;31m             \u001b[0mindexer\u001b[0m \u001b[0;34m=\u001b[0m \u001b[0mself\u001b[0m\u001b[0;34m.\u001b[0m\u001b[0mloc\u001b[0m\u001b[0;34m.\u001b[0m\u001b[0m_convert_to_indexer\u001b[0m\u001b[0;34m(\u001b[0m\u001b[0mkey\u001b[0m\u001b[0;34m,\u001b[0m \u001b[0maxis\u001b[0m\u001b[0;34m=\u001b[0m\u001b[0;36m1\u001b[0m\u001b[0;34m)\u001b[0m\u001b[0;34m\u001b[0m\u001b[0m\n\u001b[0m\u001b[1;32m   2003\u001b[0m             \u001b[0;32mreturn\u001b[0m \u001b[0mself\u001b[0m\u001b[0;34m.\u001b[0m\u001b[0mtake\u001b[0m\u001b[0;34m(\u001b[0m\u001b[0mindexer\u001b[0m\u001b[0;34m,\u001b[0m \u001b[0maxis\u001b[0m\u001b[0;34m=\u001b[0m\u001b[0;36m1\u001b[0m\u001b[0;34m,\u001b[0m \u001b[0mconvert\u001b[0m\u001b[0;34m=\u001b[0m\u001b[0;32mTrue\u001b[0m\u001b[0;34m)\u001b[0m\u001b[0;34m\u001b[0m\u001b[0m\n\u001b[1;32m   2004\u001b[0m \u001b[0;34m\u001b[0m\u001b[0m\n",
      "\u001b[0;32m~/anaconda3_501/lib/python3.6/site-packages/pandas/core/indexing.py\u001b[0m in \u001b[0;36m_convert_to_indexer\u001b[0;34m(self, obj, axis, is_setter)\u001b[0m\n\u001b[1;32m   1229\u001b[0m                 \u001b[0mmask\u001b[0m \u001b[0;34m=\u001b[0m \u001b[0mcheck\u001b[0m \u001b[0;34m==\u001b[0m \u001b[0;34m-\u001b[0m\u001b[0;36m1\u001b[0m\u001b[0;34m\u001b[0m\u001b[0m\n\u001b[1;32m   1230\u001b[0m                 \u001b[0;32mif\u001b[0m \u001b[0mmask\u001b[0m\u001b[0;34m.\u001b[0m\u001b[0many\u001b[0m\u001b[0;34m(\u001b[0m\u001b[0;34m)\u001b[0m\u001b[0;34m:\u001b[0m\u001b[0;34m\u001b[0m\u001b[0m\n\u001b[0;32m-> 1231\u001b[0;31m                     \u001b[0;32mraise\u001b[0m \u001b[0mKeyError\u001b[0m\u001b[0;34m(\u001b[0m\u001b[0;34m'%s not in index'\u001b[0m \u001b[0;34m%\u001b[0m \u001b[0mobjarr\u001b[0m\u001b[0;34m[\u001b[0m\u001b[0mmask\u001b[0m\u001b[0;34m]\u001b[0m\u001b[0;34m)\u001b[0m\u001b[0;34m\u001b[0m\u001b[0m\n\u001b[0m\u001b[1;32m   1232\u001b[0m \u001b[0;34m\u001b[0m\u001b[0m\n\u001b[1;32m   1233\u001b[0m                 \u001b[0;32mreturn\u001b[0m \u001b[0m_values_from_object\u001b[0m\u001b[0;34m(\u001b[0m\u001b[0mindexer\u001b[0m\u001b[0;34m)\u001b[0m\u001b[0;34m\u001b[0m\u001b[0m\n",
      "\u001b[0;31mKeyError\u001b[0m: \"['Adopted Budget Amount' 'Agency Name' 'Fiscal Year'] not in index\""
     ]
    }
   ],
   "source": [
    "grouped_df = df[['Adopted Budget Amount', 'Agency Name','Fiscal Year']].groupby(['Fiscal Year', 'Agency Name']).sum()\n",
    "grouped_df = grouped_df.reset_index()\n",
    "grouped_df"
   ]
  },
  {
   "cell_type": "code",
   "execution_count": null,
   "metadata": {},
   "outputs": [],
   "source": [
    "df.head()"
   ]
  },
  {
   "cell_type": "code",
   "execution_count": null,
   "metadata": {},
   "outputs": [],
   "source": [
    "df.columns"
   ]
  },
  {
   "cell_type": "code",
   "execution_count": null,
   "metadata": {},
   "outputs": [],
   "source": [
    "grouped_df_qcb= grouped_df[grouped_df['Agency Name'].str.contains(\"QUEENS COMMUNITY BOARD \")]"
   ]
  },
  {
   "cell_type": "code",
   "execution_count": null,
   "metadata": {},
   "outputs": [],
   "source": [
    "grouped_df_qcb"
   ]
  },
  {
   "cell_type": "code",
   "execution_count": null,
   "metadata": {},
   "outputs": [],
   "source": [
    "#grouped_qcb = grouped_df = \n",
    "grouped_df_qcb[['Adopted Budget Amount', 'Agency Name','Fiscal Year']].groupby(['Fiscal Year']).sum()\n",
    "#grouped_df = grouped_df.reset_index()\n",
    "#grouped_df"
   ]
  },
  {
   "cell_type": "code",
   "execution_count": 5,
   "metadata": {},
   "outputs": [
    {
     "data": {
      "text/html": [
       "<div>\n",
       "<style>\n",
       "    .dataframe thead tr:only-child th {\n",
       "        text-align: right;\n",
       "    }\n",
       "\n",
       "    .dataframe thead th {\n",
       "        text-align: left;\n",
       "    }\n",
       "\n",
       "    .dataframe tbody tr th {\n",
       "        vertical-align: top;\n",
       "    }\n",
       "</style>\n",
       "<table border=\"1\" class=\"dataframe\">\n",
       "  <thead>\n",
       "    <tr style=\"text-align: right;\">\n",
       "      <th></th>\n",
       "      <th>Publication Date</th>\n",
       "      <th>Fiscal Year</th>\n",
       "      <th>Unit Appropriation Number</th>\n",
       "      <th>Object Class Number</th>\n",
       "      <th>Intra-City Purchase Code</th>\n",
       "      <th>Adopted Budget Amount</th>\n",
       "    </tr>\n",
       "  </thead>\n",
       "  <tbody>\n",
       "    <tr>\n",
       "      <th>count</th>\n",
       "      <td>2.541840e+05</td>\n",
       "      <td>254184.000000</td>\n",
       "      <td>254184.000000</td>\n",
       "      <td>254184.000000</td>\n",
       "      <td>12909.000000</td>\n",
       "      <td>2.541840e+05</td>\n",
       "    </tr>\n",
       "    <tr>\n",
       "      <th>mean</th>\n",
       "      <td>2.017171e+07</td>\n",
       "      <td>2018.127789</td>\n",
       "      <td>82.718322</td>\n",
       "      <td>26.559343</td>\n",
       "      <td>719.410411</td>\n",
       "      <td>2.649240e+06</td>\n",
       "    </tr>\n",
       "    <tr>\n",
       "      <th>std</th>\n",
       "      <td>7.790119e+03</td>\n",
       "      <td>0.782368</td>\n",
       "      <td>144.746887</td>\n",
       "      <td>23.121595</td>\n",
       "      <td>294.259279</td>\n",
       "      <td>5.288078e+07</td>\n",
       "    </tr>\n",
       "    <tr>\n",
       "      <th>min</th>\n",
       "      <td>2.016043e+07</td>\n",
       "      <td>2017.000000</td>\n",
       "      <td>1.000000</td>\n",
       "      <td>1.000000</td>\n",
       "      <td>2.000000</td>\n",
       "      <td>-5.293114e+08</td>\n",
       "    </tr>\n",
       "    <tr>\n",
       "      <th>25%</th>\n",
       "      <td>2.016062e+07</td>\n",
       "      <td>2017.000000</td>\n",
       "      <td>2.000000</td>\n",
       "      <td>4.000000</td>\n",
       "      <td>819.000000</td>\n",
       "      <td>0.000000e+00</td>\n",
       "    </tr>\n",
       "    <tr>\n",
       "      <th>50%</th>\n",
       "      <td>2.017061e+07</td>\n",
       "      <td>2018.000000</td>\n",
       "      <td>6.000000</td>\n",
       "      <td>30.000000</td>\n",
       "      <td>856.000000</td>\n",
       "      <td>5.000000e+03</td>\n",
       "    </tr>\n",
       "    <tr>\n",
       "      <th>75%</th>\n",
       "      <td>2.018043e+07</td>\n",
       "      <td>2019.000000</td>\n",
       "      <td>106.000000</td>\n",
       "      <td>40.000000</td>\n",
       "      <td>856.000000</td>\n",
       "      <td>1.009870e+05</td>\n",
       "    </tr>\n",
       "    <tr>\n",
       "      <th>max</th>\n",
       "      <td>2.018061e+07</td>\n",
       "      <td>2019.000000</td>\n",
       "      <td>890.000000</td>\n",
       "      <td>90.000000</td>\n",
       "      <td>905.000000</td>\n",
       "      <td>5.364969e+09</td>\n",
       "    </tr>\n",
       "  </tbody>\n",
       "</table>\n",
       "</div>"
      ],
      "text/plain": [
       "       Publication Date    Fiscal Year  Unit Appropriation Number  \\\n",
       "count      2.541840e+05  254184.000000              254184.000000   \n",
       "mean       2.017171e+07    2018.127789                  82.718322   \n",
       "std        7.790119e+03       0.782368                 144.746887   \n",
       "min        2.016043e+07    2017.000000                   1.000000   \n",
       "25%        2.016062e+07    2017.000000                   2.000000   \n",
       "50%        2.017061e+07    2018.000000                   6.000000   \n",
       "75%        2.018043e+07    2019.000000                 106.000000   \n",
       "max        2.018061e+07    2019.000000                 890.000000   \n",
       "\n",
       "       Object Class Number  Intra-City Purchase Code  Adopted Budget Amount  \n",
       "count        254184.000000              12909.000000           2.541840e+05  \n",
       "mean             26.559343                719.410411           2.649240e+06  \n",
       "std              23.121595                294.259279           5.288078e+07  \n",
       "min               1.000000                  2.000000          -5.293114e+08  \n",
       "25%               4.000000                819.000000           0.000000e+00  \n",
       "50%              30.000000                856.000000           5.000000e+03  \n",
       "75%              40.000000                856.000000           1.009870e+05  \n",
       "max              90.000000                905.000000           5.364969e+09  "
      ]
     },
     "execution_count": 5,
     "metadata": {},
     "output_type": "execute_result"
    }
   ],
   "source": [
    "df.describe()"
   ]
  },
  {
   "cell_type": "code",
   "execution_count": 6,
   "metadata": {},
   "outputs": [
    {
     "name": "stderr",
     "output_type": "stream",
     "text": [
      "/home/nbuser/anaconda3_501/lib/python3.6/site-packages/matplotlib/font_manager.py:281: UserWarning: Matplotlib is building the font cache using fc-list. This may take a moment.\n",
      "  'Matplotlib is building the font cache using fc-list. '\n"
     ]
    }
   ],
   "source": [
    "import numpy as np\n",
    "import pandas as pd\n",
    "PREVIOUS_MAX_ROWS = pd.options.display.max_rows\n",
    "pd.options.display.max_rows = 20\n",
    "np.random.seed(12345)\n",
    "import matplotlib.pyplot as plt\n",
    "import matplotlib\n",
    "plt.rc('figure', figsize=(10, 6))\n",
    "np.set_printoptions(precision=4, suppress=True)"
   ]
  },
  {
   "cell_type": "code",
   "execution_count": 7,
   "metadata": {},
   "outputs": [
    {
     "data": {
      "text/plain": [
       "<matplotlib.axes._subplots.AxesSubplot at 0x7f5f6a7d3e48>"
      ]
     },
     "execution_count": 7,
     "metadata": {},
     "output_type": "execute_result"
    },
    {
     "data": {
      "image/png": "[encoded data removed]",
      "text/plain": [
       "<matplotlib.figure.Figure at 0x7f5f700b70b8>"
      ]
     },
     "metadata": {},
     "output_type": "display_data"
    }
   ],
   "source": [
    "df = pd.DataFrame(np.random.rand(6, 4),\n",
    "                  index=['one', 'two', 'three', 'four', 'five', 'six'],\n",
    "                  columns=pd.Index(['A', 'B', 'C', 'D'], name='Genus'))\n",
    "df\n",
    "df.plot.bar()"
   ]
  },
  {
   "cell_type": "code",
   "execution_count": 8,
   "metadata": {},
   "outputs": [
    {
     "data": {
      "text/html": [
       "<div>\n",
       "<style>\n",
       "    .dataframe thead tr:only-child th {\n",
       "        text-align: right;\n",
       "    }\n",
       "\n",
       "    .dataframe thead th {\n",
       "        text-align: left;\n",
       "    }\n",
       "\n",
       "    .dataframe tbody tr th {\n",
       "        vertical-align: top;\n",
       "    }\n",
       "</style>\n",
       "<table border=\"1\" class=\"dataframe\">\n",
       "  <thead>\n",
       "    <tr style=\"text-align: right;\">\n",
       "      <th>Genus</th>\n",
       "      <th>A</th>\n",
       "      <th>B</th>\n",
       "      <th>C</th>\n",
       "      <th>D</th>\n",
       "    </tr>\n",
       "  </thead>\n",
       "  <tbody>\n",
       "    <tr>\n",
       "      <th>one</th>\n",
       "      <td>0.929616</td>\n",
       "      <td>0.316376</td>\n",
       "      <td>0.183919</td>\n",
       "      <td>0.204560</td>\n",
       "    </tr>\n",
       "    <tr>\n",
       "      <th>two</th>\n",
       "      <td>0.567725</td>\n",
       "      <td>0.595545</td>\n",
       "      <td>0.964515</td>\n",
       "      <td>0.653177</td>\n",
       "    </tr>\n",
       "    <tr>\n",
       "      <th>three</th>\n",
       "      <td>0.748907</td>\n",
       "      <td>0.653570</td>\n",
       "      <td>0.747715</td>\n",
       "      <td>0.961307</td>\n",
       "    </tr>\n",
       "    <tr>\n",
       "      <th>four</th>\n",
       "      <td>0.008388</td>\n",
       "      <td>0.106444</td>\n",
       "      <td>0.298704</td>\n",
       "      <td>0.656411</td>\n",
       "    </tr>\n",
       "    <tr>\n",
       "      <th>five</th>\n",
       "      <td>0.809813</td>\n",
       "      <td>0.872176</td>\n",
       "      <td>0.964648</td>\n",
       "      <td>0.723685</td>\n",
       "    </tr>\n",
       "    <tr>\n",
       "      <th>six</th>\n",
       "      <td>0.642475</td>\n",
       "      <td>0.717454</td>\n",
       "      <td>0.467599</td>\n",
       "      <td>0.325585</td>\n",
       "    </tr>\n",
       "  </tbody>\n",
       "</table>\n",
       "</div>"
      ],
      "text/plain": [
       "Genus         A         B         C         D\n",
       "one    0.929616  0.316376  0.183919  0.204560\n",
       "two    0.567725  0.595545  0.964515  0.653177\n",
       "three  0.748907  0.653570  0.747715  0.961307\n",
       "four   0.008388  0.106444  0.298704  0.656411\n",
       "five   0.809813  0.872176  0.964648  0.723685\n",
       "six    0.642475  0.717454  0.467599  0.325585"
      ]
     },
     "execution_count": 8,
     "metadata": {},
     "output_type": "execute_result"
    }
   ],
   "source": [
    "df"
   ]
  },
  {
   "cell_type": "code",
   "execution_count": 9,
   "metadata": {},
   "outputs": [
    {
     "ename": "NameError",
     "evalue": "name 'grouped_df_qcb' is not defined",
     "output_type": "error",
     "traceback": [
      "\u001b[0;31m---------------------------------------------------------------------------\u001b[0m",
      "\u001b[0;31mNameError\u001b[0m                                 Traceback (most recent call last)",
      "\u001b[0;32m<ipython-input-9-3991bb51e8c2>\u001b[0m in \u001b[0;36m<module>\u001b[0;34m()\u001b[0m\n\u001b[0;32m----> 1\u001b[0;31m \u001b[0mgrouped_df_qcb\u001b[0m\u001b[0;34m[\u001b[0m\u001b[0;34m[\u001b[0m\u001b[0;34m'Adopted Budget Amount'\u001b[0m\u001b[0;34m,\u001b[0m\u001b[0;34m'Fiscal Year'\u001b[0m\u001b[0;34m]\u001b[0m\u001b[0;34m]\u001b[0m\u001b[0;34m.\u001b[0m\u001b[0mgroupby\u001b[0m\u001b[0;34m(\u001b[0m\u001b[0;34m[\u001b[0m\u001b[0;34m'Fiscal Year'\u001b[0m\u001b[0;34m]\u001b[0m\u001b[0;34m)\u001b[0m\u001b[0;34m.\u001b[0m\u001b[0msum\u001b[0m\u001b[0;34m(\u001b[0m\u001b[0;34m)\u001b[0m\u001b[0;34m.\u001b[0m\u001b[0mplot\u001b[0m\u001b[0;34m.\u001b[0m\u001b[0mbar\u001b[0m\u001b[0;34m(\u001b[0m\u001b[0;34m)\u001b[0m\u001b[0;34m\u001b[0m\u001b[0m\n\u001b[0m\u001b[1;32m      2\u001b[0m \u001b[0;34m\u001b[0m\u001b[0m\n",
      "\u001b[0;31mNameError\u001b[0m: name 'grouped_df_qcb' is not defined"
     ]
    }
   ],
   "source": [
    "grouped_df_qcb[['Adopted Budget Amount','Fiscal Year']].groupby(['Fiscal Year']).sum().plot.bar()\n",
    "\n"
   ]
  },
  {
   "cell_type": "code",
   "execution_count": null,
   "metadata": {},
   "outputs": [],
   "source": [
    "df.plot.barh(stacked=True, alpha=0.5)"
   ]
  },
  {
   "cell_type": "code",
   "execution_count": null,
   "metadata": {},
   "outputs": [],
   "source": [
    "import matplotlib as mpl\n",
    "\n",
    "ax = grouped_df_qcb[['Adopted Budget Amount', 'Agency Name','Fiscal Year']].groupby(['Fiscal Year']).sum().plot.bar()\n",
    "ax.yaxis.set_major_formatter(mpl.ticker.StrMethodFormatter('{x:,.0f}'))\n",
    "plt.show()"
   ]
  },
  {
   "cell_type": "code",
   "execution_count": null,
   "metadata": {},
   "outputs": [],
   "source": [
    "import pylab as pl\n",
    "from pandas import *\n",
    "data = DataFrame(np.random.randn(500).reshape(100,5), columns=list('abcde'))\n",
    "axes = data.hist(sharey=True, sharex=True)\n",
    "pl.suptitle(\"This is Figure title\")"
   ]
  },
  {
   "cell_type": "code",
   "execution_count": null,
   "metadata": {},
   "outputs": [],
   "source": [
    "import matplotlib as mpl\n",
    "\n",
    "ax = grouped_df_qcb[['Adopted Budget Amount', 'Agency Name','Fiscal Year']].groupby(['Fiscal Year']).sum().plot.bar(title='Queens Community Board')\n",
    "ax.yaxis.set_major_formatter(mpl.ticker.StrMethodFormatter('{x:,.0f}'))\n",
    "ax.legend(loc='upper left', bbox_to_anchor=(0.5, 1.0))\n",
    "ax = df.plot.bar(width=0.5,color=['g','b','c'])\n",
    "plt.xticks(rotation=0)\n",
    "plt.show()\n"
   ]
  },
  {
   "cell_type": "code",
   "execution_count": null,
   "metadata": {},
   "outputs": [],
   "source": [
    "ax = df.plot.bar(width=1,color=['b','g','r','c','orange','purple','y']);\n",
    "ax.legend(loc='center left', bbox_to_anchor=(1.0, 0.5))\n",
    "ax.set_xticklabels(months2,rotation=45) "
   ]
  },
  {
   "cell_type": "code",
   "execution_count": null,
   "metadata": {},
   "outputs": [],
   "source": [
    "import matplotlib as mpl\n",
    "plt.figure(figsize=(20,20))\n",
    "\n",
    "ax = grouped_df_qcb[['Adopted Budget Amount', 'Agency Name','Fiscal Year']].groupby(['Fiscal Year']).sum().plot(kind='bar', stacked=True, width=.1,title='Queens Community Board')\n",
    "ax.yaxis.set_major_formatter(mpl.ticker.StrMethodFormatter('{x:,.0f}'))\n",
    "plt.xticks(rotation=0)\n",
    "plt.legend( prop={'size': 6})\n",
    "\n",
    "#fig=plt.figure(figsize=(18, 16), dpi= 80, facecolor='w', edgecolor='k')\n",
    "\n",
    "plt.savefig('plt.png')\n",
    "\n",
    "plt.show()"
   ]
  },
  {
   "cell_type": "code",
   "execution_count": null,
   "metadata": {},
   "outputs": [],
   "source": [
    "import matplotlib as mpl\n",
    "ax = grouped_df_qcb[['Adopted Budget Amount', 'Agency Name','Fiscal Year']].groupby(['Fiscal Year']).sum().plot( kind='bar', stacked=True, width=.3,title='Queens Community Board')\n",
    "ax.yaxis.set_major_formatter(mpl.ticker.StrMethodFormatter('{x:,.0f}'))\n",
    "plt.xticks(rotation=0)\n",
    "plt.legend( prop={'size': 8})\n",
    "plt.savefig('plt.png',dpi = 100)\n",
    "plt.show()"
   ]
  },
  {
   "cell_type": "code",
   "execution_count": null,
   "metadata": {},
   "outputs": [],
   "source": [
    "df2 = grouped_df_qcb[['Adopted Budget Amount', 'Agency Name','Fiscal Year']].groupby(['Fiscal Year']).sum().reset_index()"
   ]
  },
  {
   "cell_type": "code",
   "execution_count": null,
   "metadata": {},
   "outputs": [],
   "source": [
    "df2 = df2.set_index('Fiscal Year')"
   ]
  },
  {
   "cell_type": "code",
   "execution_count": null,
   "metadata": {},
   "outputs": [],
   "source": [
    "df2"
   ]
  },
  {
   "cell_type": "code",
   "execution_count": null,
   "metadata": {},
   "outputs": [],
   "source": [
    "import matplotlib as mpl\n",
    "import matplotlib.patches as mpatches\n",
    "\n",
    "ax = df2.plot( kind='bar', stacked=True, width=.3,color=['rgb'],legend = None)\n",
    "ax.yaxis.set_major_formatter(mpl.ticker.StrMethodFormatter('{x:,.0f}'))\n",
    "ax.set_title('Adopted Budget Amount', fontsize= 10,position=(0.48, 1)) # title of plot\n",
    "plt.xticks(rotation=0)\n",
    "title_string = \"Queens Community Board\"\n",
    "plt.suptitle(title_string, y=1.0, fontsize=12)\n",
    "# red_patch = mpatches.Patch( label='The red data', alpha=0)\n",
    "# plt.legend(handles=[red_patch])\n",
    "\n",
    "#plt.legend(prop={'size': 8})\n",
    "plt.savefig('plt.png',dpi = 100)\n",
    "plt.show()\n",
    "plt.tight_layout()\n"
   ]
  },
  {
   "cell_type": "code",
   "execution_count": null,
   "metadata": {},
   "outputs": [],
   "source": [
    "ax = df2.plot( kind='bar', stacked=True, width=.3,color=['rgb'],legend = None)\n",
    "ax.yaxis.set_major_formatter(mpl.ticker.StrMethodFormatter('{x:,.0f}'))\n",
    "#ax.set_title('Adopted Budget Amount', fontsize= 10,position=(.50, 1)) # title of plot\n",
    "plt.xticks(rotation=0)\n",
    "title_string = \"Queens Community Board - Adopted Budget Amount\"\n",
    "plt.suptitle(title_string, y=1.02, fontsize=16)\n",
    "plt.tight_layout()\n",
    "plt.savefig('pltqns.png',dpi = 100)\n",
    "plt.show()"
   ]
  },
  {
   "cell_type": "code",
   "execution_count": null,
   "metadata": {},
   "outputs": [],
   "source": [
    "import numpy as np\n",
    "import pandas as pd\n",
    "PREVIOUS_MAX_ROWS = pd.options.display.max_rows\n",
    "pd.options.display.max_rows = 20\n",
    "np.random.seed(12345)\n",
    "import matplotlib.pyplot as plt\n",
    "import matplotlib\n",
    "plt.rc('figure', figsize=(10, 6))\n",
    "np.set_printoptions(precision=4, suppress=True)\n",
    "import matplotlib as mpl\n",
    "import matplotlib as mpl"
   ]
  },
  {
   "cell_type": "code",
   "execution_count": null,
   "metadata": {},
   "outputs": [],
   "source": []
  },
  {
   "cell_type": "code",
   "execution_count": null,
   "metadata": {},
   "outputs": [],
   "source": [
    "\n",
    "df = pd.read_csv('Expense_Budget.csv')\n",
    "\n",
    "# df.to_pickle('Expense_Budget.p')\n",
    "\n",
    "# df = pd.read_pickle('Expense_Budget.p')\n",
    "\n",
    "df['Adopted Budget Amount'] = df['Adopted Budget Amount'].str.replace(',', '').astype(float)\n",
    "\n",
    "grouped_df = df[['Adopted Budget Amount', 'Agency Name','Fiscal Year']].groupby(['Fiscal Year', 'Agency Name']).sum()\n",
    "grouped_df = grouped_df.reset_index()\n",
    "grouped_df"
   ]
  },
  {
   "cell_type": "code",
   "execution_count": null,
   "metadata": {},
   "outputs": [],
   "source": [
    "grouped_df = df[['Adopted Budget Amount', 'Agency Name','Fiscal Year']].groupby(['Fiscal Year', 'Agency Name']).sum()\n",
    "grouped_df = grouped_df.reset_index()"
   ]
  },
  {
   "cell_type": "code",
   "execution_count": null,
   "metadata": {},
   "outputs": [],
   "source": [
    "grouped_df_bcb= grouped_df[grouped_df['Agency Name'].str.contains(\"BROOKLYN COMMUNITY BOARD\")]"
   ]
  },
  {
   "cell_type": "code",
   "execution_count": null,
   "metadata": {},
   "outputs": [],
   "source": [
    "grouped_df_bcb"
   ]
  },
  {
   "cell_type": "code",
   "execution_count": null,
   "metadata": {},
   "outputs": [],
   "source": [
    "df3 = grouped_df_bcb[['Adopted Budget Amount', 'Agency Name','Fiscal Year']].groupby(['Fiscal Year']).sum().reset_index()\n",
    "\n",
    "df3 = df3.set_index('Fiscal Year')"
   ]
  },
  {
   "cell_type": "code",
   "execution_count": null,
   "metadata": {},
   "outputs": [],
   "source": [
    "df3"
   ]
  },
  {
   "cell_type": "code",
   "execution_count": null,
   "metadata": {},
   "outputs": [],
   "source": [
    "ax = df3.plot( kind='bar', stacked=True, width=.3,color=['rgb'],legend = None)\n",
    "ax.yaxis.set_major_formatter(mpl.ticker.StrMethodFormatter('{x:,.0f}'))\n",
    "#ax.set_title('Adopted Budget Amount', fontsize= 10,position=(.50, 1)) # title of plot\n",
    "plt.xticks(rotation=0)\n",
    "title_string = \"Brooklyn Community Board - Adopted Budget Amount\"\n",
    "plt.suptitle(title_string, y=1.02, fontsize=16)\n",
    "plt.tight_layout()\n",
    "plt.savefig('pltbklyn.png',dpi = 100)\n",
    "plt.show()"
   ]
  },
  {
   "cell_type": "code",
   "execution_count": null,
   "metadata": {},
   "outputs": [],
   "source": [
    "grouped_df_sicb= grouped_df[grouped_df['Agency Name'].str.contains(\"STATEN ISLAND COMMUNITY BOARD\")]"
   ]
  },
  {
   "cell_type": "code",
   "execution_count": null,
   "metadata": {},
   "outputs": [],
   "source": [
    "grouped_df_sicb"
   ]
  },
  {
   "cell_type": "code",
   "execution_count": null,
   "metadata": {},
   "outputs": [],
   "source": [
    "df4 = grouped_df_sicb[['Adopted Budget Amount', 'Agency Name','Fiscal Year']].groupby(['Fiscal Year']).sum().reset_index()\n",
    "\n",
    "df4 = df4.set_index('Fiscal Year')"
   ]
  },
  {
   "cell_type": "code",
   "execution_count": null,
   "metadata": {},
   "outputs": [],
   "source": [
    "df4"
   ]
  },
  {
   "cell_type": "code",
   "execution_count": null,
   "metadata": {},
   "outputs": [],
   "source": [
    "ax = df4.plot( kind='bar', stacked=True, width=.3,color=['rgb'],legend = None)\n",
    "ax.yaxis.set_major_formatter(mpl.ticker.StrMethodFormatter('{x:,.0f}'))\n",
    "#ax.set_title('Adopted Budget Amount', fontsize= 10,position=(.50, 1)) # title of plot\n",
    "plt.xticks(rotation=0)\n",
    "title_string = \"Staten Island Community Board - Adopted Budget Amount\"\n",
    "plt.suptitle(title_string, y=1.02, fontsize=16)\n",
    "plt.tight_layout()\n",
    "plt.savefig('pltsi.png',dpi = 100)\n",
    "plt.show()"
   ]
  },
  {
   "cell_type": "code",
   "execution_count": null,
   "metadata": {},
   "outputs": [],
   "source": [
    "grouped_df_bxcb= grouped_df[grouped_df['Agency Name'].str.contains(\"BRONX COMMUNITY BOARD\")]"
   ]
  },
  {
   "cell_type": "code",
   "execution_count": null,
   "metadata": {},
   "outputs": [],
   "source": [
    "grouped_df_bxcb"
   ]
  },
  {
   "cell_type": "code",
   "execution_count": null,
   "metadata": {},
   "outputs": [],
   "source": [
    "df5 = grouped_df_bxcb[['Adopted Budget Amount', 'Agency Name','Fiscal Year']].groupby(['Fiscal Year']).sum().reset_index()\n",
    "\n",
    "df5 = df5.set_index('Fiscal Year')"
   ]
  },
  {
   "cell_type": "code",
   "execution_count": null,
   "metadata": {},
   "outputs": [],
   "source": [
    "df5"
   ]
  },
  {
   "cell_type": "code",
   "execution_count": null,
   "metadata": {},
   "outputs": [],
   "source": [
    "ax = df5.plot( kind='bar', stacked=True, width=.3,color=['rgb'],legend = None)\n",
    "ax.yaxis.set_major_formatter(mpl.ticker.StrMethodFormatter('{x:,.0f}'))\n",
    "#ax.set_title('Adopted Budget Amount', fontsize= 10,position=(.50, 1)) # title of plot\n",
    "plt.xticks(rotation=0)\n",
    "title_string = \"Bronx Community Board - Adopted Budget Amount\"\n",
    "plt.suptitle(title_string, y=1.02, fontsize=16)\n",
    "plt.tight_layout()\n",
    "plt.savefig('pltbx.png',dpi = 100)\n",
    "plt.show()"
   ]
  },
  {
   "cell_type": "code",
   "execution_count": null,
   "metadata": {},
   "outputs": [],
   "source": [
    "grouped_df_mcb= grouped_df[grouped_df['Agency Name'].str.contains(\"MANHATTAN COMMUNITY BOARD\")]"
   ]
  },
  {
   "cell_type": "code",
   "execution_count": null,
   "metadata": {},
   "outputs": [],
   "source": [
    "grouped_df_mcb"
   ]
  },
  {
   "cell_type": "code",
   "execution_count": null,
   "metadata": {},
   "outputs": [],
   "source": [
    "df6 = grouped_df_mcb[['Adopted Budget Amount', 'Agency Name','Fiscal Year']].groupby(['Fiscal Year']).sum().reset_index()\n",
    "\n",
    "df6 = df6.set_index('Fiscal Year')"
   ]
  },
  {
   "cell_type": "code",
   "execution_count": null,
   "metadata": {},
   "outputs": [],
   "source": [
    "df6\n",
    "df6.to_pickle('df6.p')\n"
   ]
  },
  {
   "cell_type": "code",
   "execution_count": null,
   "metadata": {},
   "outputs": [],
   "source": [
    "ax = df6.plot( kind='bar', stacked=True, width=.3,color=['rgb'],legend = None)\n",
    "ax.yaxis.set_major_formatter(mpl.ticker.StrMethodFormatter('{x:,.0f}'))\n",
    "#ax.set_title('Adopted Budget Amount', fontsize= 10,position=(.50, 1)) # title of plot\n",
    "axes.set_ylim([0,14000000])\n",
    "plt.xticks(rotation=0)\n",
    "title_string = \"Manhattan Community Board - Adopted Budget Amount\"\n",
    "plt.suptitle(title_string, y=1.02, fontsize=16)\n",
    "plt.tight_layout()\n",
    "\n",
    "plt.show()\n",
    "from matplotlib import rcParams\n",
    "rcParams.update({'figure.autolayout': True})\n",
    "\n",
    "plt.savefig('pltmanhattan.png',dpi = 100)"
   ]
  },
  {
   "cell_type": "code",
   "execution_count": null,
   "metadata": {},
   "outputs": [],
   "source": []
  },
  {
   "cell_type": "code",
   "execution_count": null,
   "metadata": {},
   "outputs": [],
   "source": []
  },
  {
   "cell_type": "code",
   "execution_count": null,
   "metadata": {},
   "outputs": [],
   "source": []
  }
 ],
 "metadata": {
  "kernelspec": {
   "display_name": "Python 3.6",
   "language": "python",
   "name": "python36"
  },
  "language_info": {
   "codemirror_mode": {
    "name": "ipython",
    "version": 3
   },
   "file_extension": ".py",
   "mimetype": "text/x-python",
   "name": "python",
   "nbconvert_exporter": "python",
   "pygments_lexer": "ipython3",
   "version": "3.6.3"
  }
 },
 "nbformat": 4,
 "nbformat_minor": 2
}
